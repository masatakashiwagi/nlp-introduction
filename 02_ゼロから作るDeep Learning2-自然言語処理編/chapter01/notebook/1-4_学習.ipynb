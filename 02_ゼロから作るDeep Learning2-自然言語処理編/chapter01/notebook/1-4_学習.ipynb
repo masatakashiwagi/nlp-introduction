{
 "cells": [
  {
   "cell_type": "code",
   "execution_count": 5,
   "id": "expressed-reasoning",
   "metadata": {},
   "outputs": [],
   "source": [
    "import sys\n",
    "sys.path.append('../src/org/')"
   ]
  },
  {
   "cell_type": "code",
   "execution_count": 6,
   "id": "fatty-helmet",
   "metadata": {},
   "outputs": [],
   "source": [
    "import numpy as np\n",
    "from common.optimizer import SGD\n",
    "from dataset import spiral\n",
    "import matplotlib.pyplot as plt\n",
    "from two_layer_net import TwoLayerNet"
   ]
  },
  {
   "cell_type": "code",
   "execution_count": null,
   "id": "fixed-thumbnail",
   "metadata": {},
   "outputs": [],
   "source": []
  }
 ],
 "metadata": {
  "kernelspec": {
   "display_name": "Python 3",
   "language": "python",
   "name": "python3"
  },
  "language_info": {
   "codemirror_mode": {
    "name": "ipython",
    "version": 3
   },
   "file_extension": ".py",
   "mimetype": "text/x-python",
   "name": "python",
   "nbconvert_exporter": "python",
   "pygments_lexer": "ipython3",
   "version": "3.8.5"
  }
 },
 "nbformat": 4,
 "nbformat_minor": 5
}
